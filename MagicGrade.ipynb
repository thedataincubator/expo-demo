{
 "cells": [
  {
   "cell_type": "markdown",
   "metadata": {},
   "source": [
    "<!-- no collapse -->\n",
    "# Python Coding Challenge\n",
    "\n",
    "Want to test your Python coding skills? Let's get started!"
   ]
  },
  {
   "cell_type": "markdown",
   "metadata": {},
   "source": [
    "## Question 0"
   ]
  },
  {
   "cell_type": "markdown",
   "metadata": {},
   "source": [
    "We will start slow. For the first couple of questions, the instructions will include enough information to help you write the correct code even if you have no prior Python experience. \n",
    "\n",
    "This is a Jupyter notebook, which allows you to write, edit, and execute code.  To get started, we need to run a little bit of code to get things set up.  The relevant code is in the cell below.  Click in that cell, and then run the code with the `▶ Run` button above."
   ]
  },
  {
   "cell_type": "code",
   "execution_count": null,
   "metadata": {},
   "outputs": [],
   "source": [
    "from grade import grade, get_grade_code, parse_grade_code"
   ]
  },
  {
   "cell_type": "markdown",
   "metadata": {
    "heading_collapsed": true
   },
   "source": [
    "## Question 1"
   ]
  },
  {
   "cell_type": "markdown",
   "metadata": {
    "hidden": true
   },
   "source": [
    "Let's begin with one of the basic data structures in Python - a list.  It can be created using square brackets and data items separated with commas, like you can see in the code cell below. In order to run the code, you need to click in the cell below, and then click the `▶ Run` button above."
   ]
  },
  {
   "cell_type": "code",
   "execution_count": null,
   "metadata": {
    "hidden": true
   },
   "outputs": [],
   "source": [
    "mylist = [1, 2, 3]"
   ]
  },
  {
   "cell_type": "markdown",
   "metadata": {
    "hidden": true
   },
   "source": [
    "We can add elements to a Python list with its `append` method.  If we wanted to add `4` to our list, we'd write the code you see below. To run the code, don't forget to click in the cell below, and then click the `▶ Run` button above."
   ]
  },
  {
   "cell_type": "code",
   "execution_count": null,
   "metadata": {
    "hidden": true
   },
   "outputs": [],
   "source": [
    "mylist.append(4)"
   ]
  },
  {
   "cell_type": "markdown",
   "metadata": {
    "hidden": true
   },
   "source": [
    "In the cell below, write Python code to add the element `33` to `mylist`. Execute the cell by clicking the `▶ Run` button above or with `Shift`+`Enter`.\n",
    "\n",
    "**IMPORTANT NOTE:** You may notice the `%%grade append` code that is already there on the first line in the code cell below. Make sure to leave that intact so that the grading of your submission works properly and write your code on the lines below the `%%grade append`."
   ]
  },
  {
   "cell_type": "code",
   "execution_count": null,
   "metadata": {
    "hidden": true
   },
   "outputs": [],
   "source": [
    "%%grade append\n"
   ]
  },
  {
   "cell_type": "markdown",
   "metadata": {
    "heading_collapsed": true
   },
   "source": [
    "## Question 2"
   ]
  },
  {
   "cell_type": "markdown",
   "metadata": {
    "hidden": true
   },
   "source": [
    "When you want to write multiple commands, you need to write them in separate lines.  Let's say we wanted to add 4 as well as 5 to our list; we'd write:"
   ]
  },
  {
   "cell_type": "code",
   "execution_count": null,
   "metadata": {
    "hidden": true
   },
   "outputs": [],
   "source": [
    "mylist.append(4)\n",
    "mylist.append(5)"
   ]
  },
  {
   "cell_type": "markdown",
   "metadata": {
    "hidden": true
   },
   "source": [
    "In the cell below, write Python code to add elements 66 and 99 to `mylist`. Same as before, make sure to leave the `%%grade appendmult` intact so that the grading of your submission works properly and write your code on the lines below that."
   ]
  },
  {
   "cell_type": "code",
   "execution_count": null,
   "metadata": {
    "hidden": true
   },
   "outputs": [],
   "source": [
    "%%grade appendmult\n"
   ]
  },
  {
   "cell_type": "markdown",
   "metadata": {},
   "source": [
    "## Question 3"
   ]
  },
  {
   "cell_type": "markdown",
   "metadata": {},
   "source": [
    "Some simple for loop?"
   ]
  },
  {
   "cell_type": "markdown",
   "metadata": {},
   "source": [
    "## Question 4"
   ]
  },
  {
   "cell_type": "markdown",
   "metadata": {},
   "source": [
    "We will make things a bit more challenging now. This means that in order to answer the questions from here on, you will need some prior Python experience of your own. If you don't, but you would like to learn more, **... advertise the foundational**. \n",
    "\n",
    "For this problem, imagine you have a Python list of numbers called `numbers_list`. Write Python code that uses `numbers_list` and produces a new Python list called `new_list` which contains those numbers from `numbers_list` that are divisible by 5 or 7."
   ]
  },
  {
   "cell_type": "code",
   "execution_count": null,
   "metadata": {},
   "outputs": [],
   "source": [
    "numbers_list = [4,2,7,35,6,99,6,2,5,87,3,21]\n",
    "new_list = [num for num in numbers_list if not num%5 or not num%7]\n",
    "print(new_list)"
   ]
  },
  {
   "cell_type": "markdown",
   "metadata": {},
   "source": [
    "## Question 5"
   ]
  },
  {
   "cell_type": "markdown",
   "metadata": {},
   "source": [
    "Create a Python dictionary named `cubes` that contains all odd numbers between 3 and 19 (both inclusive) as the dictionary keys and make the value of each key the cube of that number."
   ]
  },
  {
   "cell_type": "code",
   "execution_count": null,
   "metadata": {},
   "outputs": [],
   "source": [
    "cubes = {num:num**3 for num in range(3, 20, 2)}"
   ]
  },
  {
   "cell_type": "markdown",
   "metadata": {},
   "source": [
    "## Question 6"
   ]
  },
  {
   "cell_type": "markdown",
   "metadata": {},
   "source": [
    "Write a Python function called `sum_digits` that takes a **number** as the input and returns the sum of the digits of the input number. As an example, calling `sum_digits` with input `28` should return `10`."
   ]
  },
  {
   "cell_type": "code",
   "execution_count": null,
   "metadata": {},
   "outputs": [],
   "source": [
    "def sum_digits(number):\n",
    "    return sum([int(digit) for digit in str(number)])\n",
    "\n",
    "sum_digits(283701)"
   ]
  },
  {
   "cell_type": "markdown",
   "metadata": {},
   "source": [
    "You did everything correct so far? If you haven't attended the foundational bootcamp already, you should consider it, looks like you're ready!"
   ]
  },
  {
   "cell_type": "markdown",
   "metadata": {},
   "source": [
    "## Question 7"
   ]
  },
  {
   "cell_type": "markdown",
   "metadata": {},
   "source": [
    "You are given a Python dictionary `salaries_dict` which is of the form \n",
    "```python\n",
    "salaries_dict = {\"ID2435\": {\"name\": \"Jim Benz\", \"salary\": 100000}, \n",
    "                 \"ID9335\": {\"name\": \"Kim Pitt\", \"salary\": 120000}, \n",
    "                 ...}\n",
    "```\n",
    "where the keys of the `salaries_dict` dictionary are employee IDs. Write Python code that uses `salaries_dict` and creates a Python variable `max_salary_id` whose value is the employee ID that has the highest salary."
   ]
  },
  {
   "cell_type": "code",
   "execution_count": null,
   "metadata": {},
   "outputs": [],
   "source": [
    "salaries_dict = {\"ID2435\": {\"name\": \"Jim Benz\", \"salary\": 100000}, \n",
    "                 \"ID9335\": {\"name\": \"Kim Pitt\", \"salary\": 120000},\n",
    "                 \"ID4535\": {\"name\": \"Jean Rolls\", \"salary\": 80000},\n",
    "                 \"ID4825\": {\"name\": \"Kathrine Frost\", \"salary\": 160000}\n",
    "                           }\n",
    "def sorting(employee_id):\n",
    "    return salaries_dict[employee_id]['salary']\n",
    "                 \n",
    "max_salary_id = max(salaries_dict, key=sorting)"
   ]
  },
  {
   "cell_type": "markdown",
   "metadata": {},
   "source": [
    "## Question 8"
   ]
  },
  {
   "cell_type": "markdown",
   "metadata": {},
   "source": [
    "Write a Python function `sum_numbers` that takes any number of input arguments and returns the sum of all of those inputs that are integers. If none of the inputs are integers, the function should return 0. As an example `sum_numbers(2, 4, 'hello', 1)` should return 7, `sum_numbers(1, {'a':3}, 1)` should return 2, `sum_numbers('hello', {'a':3})` should return 0."
   ]
  },
  {
   "cell_type": "code",
   "execution_count": null,
   "metadata": {},
   "outputs": [],
   "source": [
    "def sum_numbers(*args):\n",
    "    return sum([el for el in args if isinstance(el, int)])\n",
    "\n",
    "print(sum_numbers(2, 4, 'hello', 1))\n",
    "print(sum_numbers(1, {'a':3}, 1))\n",
    "print(sum_numbers('hello', {'a':3}))"
   ]
  },
  {
   "cell_type": "markdown",
   "metadata": {},
   "source": [
    "## Question 9"
   ]
  },
  {
   "cell_type": "markdown",
   "metadata": {},
   "source": [
    "Let the following be the definition of a class that implements a person."
   ]
  },
  {
   "cell_type": "code",
   "execution_count": null,
   "metadata": {},
   "outputs": [],
   "source": [
    "class Person:\n",
    "    def __init__(self, first, last):\n",
    "        self.first = first\n",
    "        self.last = last\n",
    "\n",
    "    def full_name(self):\n",
    "        return self.first + ' ' + self.last\n",
    "    \n",
    "    def change_last(self, new_last):\n",
    "        self.last = new_last"
   ]
  },
  {
   "cell_type": "markdown",
   "metadata": {},
   "source": [
    "Implement a custom class called `Student` that has all of the same attributes and methods as `Person`, but in addition it should also have:\n",
    "- an attribute \"topics\" which should be a Python list of strings which are the topics that the student is interested in. Write the class such that when we create a new instance of `Student`, we supply the `first`, `last`, `topics`  values and this information will be stored as attributes in the object.\n",
    "- a method `num_topics` which takes no additional input arguments and returns the number of topics the student is interested in."
   ]
  },
  {
   "cell_type": "code",
   "execution_count": null,
   "metadata": {},
   "outputs": [],
   "source": [
    "class Student(Person):\n",
    "    def __init__(self, first, last, topics):\n",
    "        Person.__init__(self, first, last)\n",
    "        self.topics = topics\n",
    "        \n",
    "    def num_topics(self):\n",
    "        return len(self.topics)"
   ]
  },
  {
   "cell_type": "markdown",
   "metadata": {},
   "source": [
    "## Question 10"
   ]
  },
  {
   "cell_type": "markdown",
   "metadata": {},
   "source": [
    "For this question, you will work with a data set that contains New York City's 311 calls.  These are calls that New Yorkers can make to file a variety of reports ranging from reporting illegal parking to filling a complaint about a noisy neighbor. All of these calls are logged and the data is freely available. You will work with data from 2009 and you can find the it in the file `311complaints_2009_001.csv` which is in the folder `data` (so the relative path to the file that you want to use is `data/311complaints_2009_001.csv`).\n",
    "\n",
    "Load the data from this file into a pandas DataFrame (don't forget to import pandas first). How many complaints in this data set are of the most common type of complaint? The type of complaint is logged under column \"Complaint Type\". Make a Python variable called `num_most_common` and assign its value to be the number of most common complaints."
   ]
  },
  {
   "cell_type": "code",
   "execution_count": null,
   "metadata": {},
   "outputs": [],
   "source": [
    "import pandas as pd\n",
    "df = pd.read_csv('data/311complaints_2009_001.csv')\n",
    "num_most_common = df.value_counts('Complaint Type').max()"
   ]
  },
  {
   "cell_type": "markdown",
   "metadata": {},
   "source": [
    "## Question 11"
   ]
  },
  {
   "cell_type": "markdown",
   "metadata": {},
   "source": [
    "Use the same DataFrame that you used in the previous question. Write code to make a Python variable called `agency_fewest` and assign its value to be the name of the agency that had the lowest number of March calls out of all agencies. The name of the agency is logged in column \"Agency\" and the date of the 311 complaint is logged in column \"Created Date\". "
   ]
  },
  {
   "cell_type": "code",
   "execution_count": null,
   "metadata": {},
   "outputs": [],
   "source": [
    "df['month'] = pd.to_datetime(df['Created Date'], format='%m/%d/%Y %I:%M:%S %p').dt.month\n",
    "df_march = df[df['month']==3]\n",
    "agency_fewest = df_march.groupby('Agency').size().idxmin()"
   ]
  },
  {
   "cell_type": "markdown",
   "metadata": {},
   "source": [
    "## Question 12"
   ]
  },
  {
   "cell_type": "markdown",
   "metadata": {},
   "source": [
    "The `data` folder actually contains many more files like the one that you have been working with so far. The files you want to use all have file names of the same format, they all start with `311complaints_2009_` followed by 3 digits and `.csv`.\n",
    "\n",
    "Write code that will read data from all of these files into a single DataFrame (hint: Python library [`glob`](https://docs.python.org/3/library/glob.html) will come handy here). Then make a Python variable called `agency_noise` and assign its value to be the name of the agency that had the most complains related to noise (those are complaints that have \"Noise\" mentioned in column \"Complaint Type\")."
   ]
  },
  {
   "cell_type": "code",
   "execution_count": null,
   "metadata": {},
   "outputs": [],
   "source": [
    "from glob import glob\n",
    "\n",
    "pattern = r'data/311complaints_2009_*.csv' \n",
    "file_names = glob(pattern) \n",
    "final_df = pd.concat([pd.read_csv(fn) for fn in file_names], ignore_index=True) \n",
    "\n",
    "def precentage_noise(df):\n",
    "    return (df['Complaint Type'].str.contains('Noise')).sum()\n",
    "agency_noise = final_df.groupby('Agency').apply(precentage_noise).idxmax()"
   ]
  },
  {
   "cell_type": "markdown",
   "metadata": {},
   "source": [
    "You did everything correct so far? If you haven't attended the intermediate bootcamp already, you should consider it, looks like you're ready!"
   ]
  },
  {
   "cell_type": "markdown",
   "metadata": {},
   "source": [
    "## Question 13"
   ]
  },
  {
   "cell_type": "markdown",
   "metadata": {},
   "source": [
    "For this next problem, you will need write Python code to get data from [this online bookstore](http://books.toscrape.com/catalogue/page-1.html). You want to scrape the prices of all of the books listed and compute the mean price of a book. Be careful, if you scroll down the page, you will see that this is just the first page, so make sure to really get prices of all of the books in this store. This means that you should end up with 1000 book prices in total. Make a Python variable `avg_book_price` and assign the mean price of a book from this bookstore as its value."
   ]
  },
  {
   "cell_type": "code",
   "execution_count": null,
   "metadata": {},
   "outputs": [],
   "source": [
    "import requests\n",
    "from bs4 import BeautifulSoup\n",
    "\n",
    "def parse_response(response):\n",
    "    if not response.ok:\n",
    "        return None\n",
    "    soup = BeautifulSoup(response.text, \"lxml\")\n",
    "    page_prices = soup.select(\".price_color\")\n",
    "    return [float(el.text[2:]) for el in page_prices]\n",
    "\n",
    "prices_list = []\n",
    "for n in range(1, 51):\n",
    "    url = f\"http://books.toscrape.com/catalogue/page-{n}.html\"\n",
    "    resp = requests.get(url)\n",
    "    prices_list.extend(parse_response(resp))\n",
    "    \n",
    "avg_book_price = sum(prices_list)/len(prices_list)"
   ]
  },
  {
   "cell_type": "markdown",
   "metadata": {},
   "source": [
    "## Question 14"
   ]
  },
  {
   "cell_type": "markdown",
   "metadata": {},
   "source": [
    "We have a function definition `some_formula` as you can see below:"
   ]
  },
  {
   "cell_type": "code",
   "execution_count": null,
   "metadata": {},
   "outputs": [],
   "source": [
    "def some_formula(a, b, c):\n",
    "    result = 3*a + b - 8*c\n",
    "    return result"
   ]
  },
  {
   "cell_type": "markdown",
   "metadata": {},
   "source": [
    "We would like to ensure that when this function is called, it returns the result according to the above formula, unless the result is negative in which case the function should return 0. Write a Python decorator `ensure_noneg` so that we can use it like so\n",
    "\n",
    "```python\n",
    "@ensure_noneg\n",
    "def some_formula(a, b, c):\n",
    "    result = 3*a + b - 8*c\n",
    "    return result\n",
    "```\n",
    "such that for example calling `some_formula(2, 3, 5)` returns 0 and calling `some_formula(5, 3, 2)` of course returns 2."
   ]
  },
  {
   "cell_type": "code",
   "execution_count": null,
   "metadata": {},
   "outputs": [],
   "source": [
    "def ensure_noneg(func):\n",
    "    \n",
    "    def wrapper(*args):\n",
    "        result = func(*args)\n",
    "        if result< 0:\n",
    "            return 0\n",
    "        return result\n",
    "    \n",
    "    return wrapper\n",
    "\n",
    "@ensure_noneg\n",
    "def some_formula(a, b, c):\n",
    "    result = 3*a + b - 8*c\n",
    "    return result\n",
    "\n",
    "some_formula(2, 3, 5), some_formula(5, 3, 2)"
   ]
  },
  {
   "cell_type": "markdown",
   "metadata": {},
   "source": [
    "## Question 15"
   ]
  },
  {
   "cell_type": "markdown",
   "metadata": {},
   "source": [
    "The last two questions will not only test your Python skills but will also require familiarity with machine learning. For this problem we will work with a data set containing customers of a telecommunications company and we will try to build a model that predicts customer churn. \n",
    "\n",
    "The data set is in the folder `data` in file `Customer_telecom.csv`. Load it into a pandas DataFrame, use only the columns listed in `features_to_use` which you can see in the code cell below and train a model to predict values in column \"churn\". Note that some features are numeric and some are categorical."
   ]
  },
  {
   "cell_type": "code",
   "execution_count": null,
   "metadata": {},
   "outputs": [],
   "source": [
    "features_to_use = ['total intl minutes', 'total eve minutes', 'total day minutes',\n",
    "                   'total intl calls', 'total eve calls', 'total day calls',\n",
    "                  'state', 'number vmail messages', 'international plan', 'voice mail plan', \n",
    "                  'customer service calls', 'account length']"
   ]
  },
  {
   "cell_type": "code",
   "execution_count": null,
   "metadata": {},
   "outputs": [],
   "source": [
    "from sklearn.compose import ColumnTransformer\n",
    "from sklearn.preprocessing import OneHotEncoder\n",
    "from sklearn.pipeline import Pipeline\n",
    "from sklearn.ensemble import RandomForestClassifier\n",
    "from sklearn.model_selection import GridSearchCV\n",
    "\n",
    "df_telco = pd.read_csv('data/Customer_telecom.csv')\n",
    "X = df_telco[features_to_use]\n",
    "y = df_telco['churn']\n",
    "\n",
    "transformer_name = 'ohe_on_all_categorical_features'\n",
    "transformer = OneHotEncoder(sparse=False)\n",
    "columns_to_encode = ['state', 'international plan', 'voice mail plan']\n",
    "\n",
    "ohe_final = ColumnTransformer([\n",
    "    (transformer_name, transformer, columns_to_encode)], \n",
    "    remainder='passthrough')\n",
    "\n",
    "rf_pipe = Pipeline([('ohe', ohe_final),\n",
    "                    ('rf', RandomForestClassifier(n_estimators=50, random_state=42))])\n",
    "\n",
    "rf_gs = GridSearchCV(rf_pipe, \n",
    "                     cv=5, \n",
    "                     param_grid={'rf__max_depth': range(3, 10)}\n",
    "                    )\n",
    "rf_gs.fit(X, y);"
   ]
  },
  {
   "cell_type": "markdown",
   "metadata": {},
   "source": [
    "## Question 16"
   ]
  },
  {
   "cell_type": "markdown",
   "metadata": {},
   "source": [
    "- build a custom transformer"
   ]
  },
  {
   "cell_type": "markdown",
   "metadata": {},
   "source": [
    "EXTRAS\n",
    "\n",
    "- nlp question?\n",
    "- deep learning question?"
   ]
  },
  {
   "cell_type": "markdown",
   "metadata": {
    "heading_collapsed": true
   },
   "source": [
    "## Submit your score"
   ]
  },
  {
   "cell_type": "code",
   "execution_count": null,
   "metadata": {
    "hidden": true
   },
   "outputs": [],
   "source": [
    "get_grade_code()"
   ]
  },
  {
   "cell_type": "markdown",
   "metadata": {
    "heading_collapsed": true
   },
   "source": [
    "## (Internal evaluation)"
   ]
  },
  {
   "cell_type": "code",
   "execution_count": null,
   "metadata": {
    "hidden": true
   },
   "outputs": [],
   "source": [
    "parse_grade_code('UgSWAyX/', 3)"
   ]
  }
 ],
 "metadata": {
  "kernelspec": {
   "display_name": "Python 3",
   "language": "python",
   "name": "python3"
  },
  "language_info": {
   "codemirror_mode": {
    "name": "ipython",
    "version": 3
   },
   "file_extension": ".py",
   "mimetype": "text/x-python",
   "name": "python",
   "nbconvert_exporter": "python",
   "pygments_lexer": "ipython3",
   "version": "3.8.5"
  }
 },
 "nbformat": 4,
 "nbformat_minor": 4
}
