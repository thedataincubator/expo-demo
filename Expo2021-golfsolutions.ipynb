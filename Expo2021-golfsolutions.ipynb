{
 "cells": [
  {
   "cell_type": "markdown",
   "metadata": {},
   "source": [
    "<!-- no collapse -->\n",
    "# Code Golfing the BP D&A Python Coding Challenge\n",
    "\n",
    "As I was testing our questions from the coding challenge, I started challenging myself by \"code golfing\" the solutions.  This refers to a game wherein you try to solve a problem with the least amount of code.  I decided to aim to write a solution to each problem in a single _logical_ line.  I wasn't trying to minimize characters, and in one case opted for a solution which was slightly longer by character count, as I found it more elegant.\n",
    "\n",
    "> By logical line, I mean a single Python statement.  That means that\n",
    "> ```python\n",
    "> x = (1 +\n",
    ">      2)\n",
    "> ```\n",
    "> counts as a single logical line, while\n",
    "> ```python\n",
    "> x = 1; y = 2\n",
    "> ```\n",
    "> counts as two.  I'm also not counting import lines because, hey, I get to make the rules.\n",
    "\n",
    "To be clear, you should **NEVER write code in this style** for any production process.  Python is a great language in part because of its focus on readability.  Many of these solutions throw away readability for terseness, and that is a poor trade off!\n",
    "\n",
    "However, this process required me to make use of a number interesting Python features, and I thought Python students might like to learn some of them. These solutions do demonstrate a number of advanced techniques, like:\n",
    "- list, dictionary, and generator comprehensions\n",
    "- `map`\n",
    "- key functions for sorting\n",
    "- `lambda` functions\n",
    "- Pandas pipelining\n",
    "- Pandas query method\n",
    "- double comprehensions\n",
    "\n",
    "So treat this as a visit to a cabinet of curiosities.  You may be surprised, shocked, or disgusted, but hopefully you come away with a renewed appreciation for the everyday."
   ]
  },
  {
   "cell_type": "markdown",
   "metadata": {},
   "source": [
    "## Question 0"
   ]
  },
  {
   "cell_type": "markdown",
   "metadata": {},
   "source": [
    "*I'll summarize each question in italics as a reminder.  This one is just an import.*"
   ]
  },
  {
   "cell_type": "code",
   "execution_count": null,
   "metadata": {},
   "outputs": [],
   "source": [
    "from grade import grade, get_grade_code, parse_grade_code"
   ]
  },
  {
   "cell_type": "markdown",
   "metadata": {},
   "source": [
    "And since imports don't count as lines, I'll count this as zero!"
   ]
  },
  {
   "cell_type": "markdown",
   "metadata": {
    "heading_collapsed": true
   },
   "source": [
    "## Question 1"
   ]
  },
  {
   "cell_type": "markdown",
   "metadata": {
    "hidden": true
   },
   "source": [
    "*Append the value `33` to the variable `my_list`.*\n",
    "\n",
    "There's nothing too interesting here.  The most straightforward approach is the shortest."
   ]
  },
  {
   "cell_type": "code",
   "execution_count": null,
   "metadata": {
    "hidden": true
   },
   "outputs": [],
   "source": [
    "%%grade append\n",
    "\n",
    "my_list.append(33)"
   ]
  },
  {
   "cell_type": "markdown",
   "metadata": {
    "heading_collapsed": true
   },
   "source": [
    "## Question 2"
   ]
  },
  {
   "cell_type": "markdown",
   "metadata": {
    "hidden": true
   },
   "source": [
    "*Append `66` and `99` to `my_list`.*\n",
    "\n",
    "The question is trying to lead you to call `my_list.append` twice.  But Python lists also have an `extend` method that lets you add multiple items to a list."
   ]
  },
  {
   "cell_type": "code",
   "execution_count": null,
   "metadata": {
    "hidden": true
   },
   "outputs": [],
   "source": [
    "%%grade appendmult\n",
    "\n",
    "my_list.extend([66, 99])"
   ]
  },
  {
   "cell_type": "markdown",
   "metadata": {
    "heading_collapsed": true
   },
   "source": [
    "## Question 3"
   ]
  },
  {
   "cell_type": "markdown",
   "metadata": {
    "hidden": true
   },
   "source": [
    "*Assemble a list of squared values.*\n",
    "\n",
    "The question text was leading you towards writing a for loop, but a list comprehension is shorter."
   ]
  },
  {
   "cell_type": "code",
   "execution_count": null,
   "metadata": {
    "hidden": true
   },
   "outputs": [],
   "source": [
    "%%grade appendfor\n",
    "\n",
    "squared = [i**2 for i in some_list]"
   ]
  },
  {
   "cell_type": "markdown",
   "metadata": {
    "hidden": true
   },
   "source": [
    "In this case, the code-golfed answer is actually the more Pythonic solution.  Comprehensions are preferred over for loops in most cases, both for performance and readability.  Any time you find yourself starting with an empty and appending a value to it for each element in another list, you should consider replacing this code with a comprehension!"
   ]
  },
  {
   "cell_type": "markdown",
   "metadata": {
    "heading_collapsed": true
   },
   "source": [
    "## Question 4"
   ]
  },
  {
   "cell_type": "markdown",
   "metadata": {
    "hidden": true
   },
   "source": [
    "*Filter a list to just those divisible by 5 or 7.*\n",
    "\n",
    "Comprehensions can include an `if` clause to include an element only when a condition is true."
   ]
  },
  {
   "cell_type": "code",
   "execution_count": null,
   "metadata": {
    "hidden": true
   },
   "outputs": [],
   "source": [
    "%%grade modulo\n",
    "\n",
    "new_list = [i for i in numbers_list if (i % 5) * (i % 7) == 0]"
   ]
  },
  {
   "cell_type": "markdown",
   "metadata": {
    "hidden": true
   },
   "source": [
    "The more Pythonic solution would be to write `i % 5 == 0 or i % 7 == 0`.  Their product will be zero if either is zero, so that saves a few characters.\n",
    "\n",
    "I think there is a solution that would check if `i % 35` was one of several values, but I never worked out the math."
   ]
  },
  {
   "cell_type": "markdown",
   "metadata": {
    "heading_collapsed": true
   },
   "source": [
    "## Question 5"
   ]
  },
  {
   "cell_type": "markdown",
   "metadata": {
    "hidden": true
   },
   "source": [
    "*Construct a dictionary mapping odd numbers to their cubes.*\n",
    "\n",
    "Python also supports dictionary comprehensions.  This is both shorter and more Pythonic than assembling the dictionary in a `for` loop.  Filtering the even numbers out would work, but here we use the fact that the `range` function takes an optional third argument, the step size."
   ]
  },
  {
   "cell_type": "code",
   "execution_count": null,
   "metadata": {
    "hidden": true
   },
   "outputs": [],
   "source": [
    "%%grade cubes\n",
    "\n",
    "cubes = {i: i**3 for i in range(3, 20, 2)}"
   ]
  },
  {
   "cell_type": "markdown",
   "metadata": {
    "heading_collapsed": true
   },
   "source": [
    "## Question 6"
   ]
  },
  {
   "cell_type": "markdown",
   "metadata": {
    "hidden": true
   },
   "source": [
    "*Write a function to sum the digits in a number.*\n",
    "\n",
    "When we iterate over a string, we get the digits of that string.  The `map` function iterates its second argument, so `map(int, digits)` will produce integers corresponding to the digits in the string `digits`.  Then `sum` can add them all up.\n",
    "\n",
    "Lambda functions are generally used for anonymous functions, but there's no reason you can't assign them to a name.  While you can actually define a standard function on a single line, the return is not implied, so the lambda is shorter."
   ]
  },
  {
   "cell_type": "code",
   "execution_count": null,
   "metadata": {
    "hidden": true
   },
   "outputs": [],
   "source": [
    "%%grade digits\n",
    "\n",
    "sum_digits = lambda n: sum(map(int, str(n)))"
   ]
  },
  {
   "cell_type": "markdown",
   "metadata": {
    "heading_collapsed": true
   },
   "source": [
    "## Question 7"
   ]
  },
  {
   "cell_type": "markdown",
   "metadata": {
    "hidden": true
   },
   "source": [
    "*Find the ID of the employee with the maximum salary.*\n",
    "\n",
    "When you iterate over a dictionary, you get the keys.  This happens in any iteration, so `max(salaries_dict)` would return the maximum key.  Normally, this would be maximum in lexicographic order, but the `max` function takes a `key` argument.  This argument should be a function that transforms the input into a value that will be used for the comparisons.  In this case, we provide a function that looks up the salary for each ID, causing `max` to return the ID with the maximum salary."
   ]
  },
  {
   "cell_type": "code",
   "execution_count": null,
   "metadata": {
    "hidden": true
   },
   "outputs": [],
   "source": [
    "%%grade salaries\n",
    "\n",
    "max_salary_id = max(salaries_dict, key=lambda k: salaries_dict[k]['salary'])"
   ]
  },
  {
   "cell_type": "markdown",
   "metadata": {
    "heading_collapsed": true
   },
   "source": [
    "## Question 8"
   ]
  },
  {
   "cell_type": "markdown",
   "metadata": {
    "hidden": true
   },
   "source": [
    "*Sum all integers passed as arguments to a function.*\n",
    "\n",
    "Lambda functions can take `*args` and `**kw`, just like named functions.  By omitting the square brackets around the comprehension, we have produced a *generator comprehension*.  This is iterable, but it doesn't calculate the values in advance, like a list comprehension.  In many cases, generator comprehensions need to be surrounded by a set of parenthesis, but in this case, the parenthesis from the `sum` function make the syntax unambiguous."
   ]
  },
  {
   "cell_type": "code",
   "execution_count": null,
   "metadata": {
    "hidden": true
   },
   "outputs": [],
   "source": [
    "%%grade var_args\n",
    "\n",
    "sum_numbers = lambda *args: sum(a for a in args if isinstance(a, int))"
   ]
  },
  {
   "cell_type": "markdown",
   "metadata": {
    "heading_collapsed": true
   },
   "source": [
    "## Question 9"
   ]
  },
  {
   "cell_type": "markdown",
   "metadata": {
    "hidden": true
   },
   "source": [
    "*Implement a Student class.*\n",
    "\n",
    "Alack and alas!  I could not get this down to a single line.  But that doesn't mean there isn't room for shenanigans.\n",
    "\n",
    "The shortest straightforward solution would use inheritance to avoid redefining what's already in the `Person` class."
   ]
  },
  {
   "cell_type": "code",
   "execution_count": null,
   "metadata": {
    "hidden": true
   },
   "outputs": [],
   "source": [
    "%%grade classes\n",
    "\n",
    "class Student(Person):\n",
    "    def __init__(self, first, last, topics):\n",
    "        super().__init__(first, last)\n",
    "        self.topics = topics\n",
    "    def num_topics(self):\n",
    "        return len(self.topics)"
   ]
  },
  {
   "cell_type": "markdown",
   "metadata": {
    "hidden": true
   },
   "source": [
    "However, Python objects can have arbitrary attributes added to them.  So instead of making a new class, we can save a line with a function that makes an instance of `Person` and then adds appropriate attributes.  A lambda function attached as an attribute ends up acting much like an instance method, although it is using a closure to maintain a reference to the object."
   ]
  },
  {
   "cell_type": "code",
   "execution_count": null,
   "metadata": {
    "hidden": true
   },
   "outputs": [],
   "source": [
    "%%grade classes\n",
    "\n",
    "def Student(first, last, topics):\n",
    "    p = Person(first, last)\n",
    "    p.topics = topics\n",
    "    p.num_topics = lambda: len(p.topics)\n",
    "    return p"
   ]
  },
  {
   "cell_type": "markdown",
   "metadata": {
    "hidden": true
   },
   "source": [
    "This works in part because the grader doesn't check whether `Student` is a class.  It just calls it and expects an object to be returned."
   ]
  },
  {
   "cell_type": "markdown",
   "metadata": {
    "heading_collapsed": true
   },
   "source": [
    "## Question 10"
   ]
  },
  {
   "cell_type": "markdown",
   "metadata": {
    "hidden": true
   },
   "source": [
    "*Calculate the number of times the most common complaint type occurs.*\n",
    "\n",
    "Panda's method chaining makes it easy to write quite a long, complex calculation on a single line, so these almost feels like cheating.\n",
    "\n",
    "Note that the use of grouping parentheses, which are usually preferred over line continuation characters."
   ]
  },
  {
   "cell_type": "code",
   "execution_count": null,
   "metadata": {
    "hidden": true
   },
   "outputs": [],
   "source": [
    "import pandas as pd"
   ]
  },
  {
   "cell_type": "code",
   "execution_count": null,
   "metadata": {
    "hidden": true
   },
   "outputs": [],
   "source": [
    "%%grade most_common\n",
    "\n",
    "num_most_common = (pd.read_csv('data/311complaints_2009_001.csv')['Complaint Type']\n",
    "                   .value_counts().max())"
   ]
  },
  {
   "cell_type": "markdown",
   "metadata": {
    "heading_collapsed": true
   },
   "source": [
    "## Question 11"
   ]
  },
  {
   "cell_type": "markdown",
   "metadata": {
    "hidden": true
   },
   "source": [
    "*Which agency had the fewest complaints assigned during March?*\n",
    "\n",
    "The usual way I would find the entries from March would be to load the data to a DataFrame `df` and then filter:\n",
    "```python\n",
    "df[df['Created Date'].dt.month == 3]\n",
    "```\n",
    "But this would require at least two lines of code, which is one too many!  Instead, we make use of the fact that, if a DataFrame has a datetime index, slices of `.loc` will get all rows in a particular time interval.\n",
    "\n",
    "The `.idxmax` method, like `np.argmax`, finds the index of the maximum value."
   ]
  },
  {
   "cell_type": "code",
   "execution_count": null,
   "metadata": {
    "hidden": true
   },
   "outputs": [],
   "source": [
    "%%grade fewest\n",
    "\n",
    "agency_fewest = (pd.read_csv('data/311complaints_2009_001.csv', parse_dates=['Created Date'])\n",
    "                 .set_index('Created Date')\n",
    "                 .loc['2009-03-01':'2009-03-31', 'Agency']\n",
    "                 .value_counts()\n",
    "                 .idxmin())"
   ]
  },
  {
   "cell_type": "markdown",
   "metadata": {
    "heading_collapsed": true
   },
   "source": [
    "## Question 12"
   ]
  },
  {
   "cell_type": "markdown",
   "metadata": {
    "hidden": true
   },
   "source": [
    "*Find the agency assigned the most noise complaints.*\n",
    "\n",
    "The pandas `concat` function takes any iterable of DataFrames, so we can pass it a generator comprehension.  The `query` method on DataFrames is quite capable."
   ]
  },
  {
   "cell_type": "code",
   "execution_count": null,
   "metadata": {
    "hidden": true
   },
   "outputs": [],
   "source": [
    "import glob"
   ]
  },
  {
   "cell_type": "code",
   "execution_count": null,
   "metadata": {
    "hidden": true
   },
   "outputs": [],
   "source": [
    "%%grade noise\n",
    "\n",
    "agency_noise = (pd.concat(pd.read_csv(f) \n",
    "                          for f in glob.glob('data/311complaints_2009_*.csv'))\n",
    "                .query('`Complaint Type`.str.contains(\"Noise\")')['Agency']\n",
    "                .value_counts()\n",
    "                .idxmax())"
   ]
  },
  {
   "cell_type": "markdown",
   "metadata": {
    "heading_collapsed": true
   },
   "source": [
    "## Question 13"
   ]
  },
  {
   "cell_type": "code",
   "execution_count": null,
   "metadata": {
    "hidden": true
   },
   "outputs": [],
   "source": [
    "import requests\n",
    "import bs4"
   ]
  },
  {
   "cell_type": "markdown",
   "metadata": {
    "hidden": true
   },
   "source": [
    "*Find the average book price by scraping a website.*\n",
    "\n",
    "We need to find every book on every page.  A straightforward solution with nested comprehensions would produce a nested structure as a result.  Using a double comprehension gives us a flattened sequence of prices, which can be summed easily.\n",
    "\n",
    "This takes advantage of the fact we already know the count of books.  Calculating that at the same time as the sum would be possible, but it'd be much more complicated."
   ]
  },
  {
   "cell_type": "code",
   "execution_count": null,
   "metadata": {
    "hidden": true
   },
   "outputs": [],
   "source": [
    "%%grade books\n",
    "\n",
    "avg_book_price = sum(float(el.text[2:]) for i in range(1, 51) \n",
    "                     for el in bs4.BeautifulSoup(\n",
    "                         requests.get(f'http://books.toscrape.com/catalogue/page-{i}.html').text\n",
    "                     ).select('.price_color')) / 1000"
   ]
  },
  {
   "cell_type": "markdown",
   "metadata": {
    "heading_collapsed": true
   },
   "source": [
    "## Question 14"
   ]
  },
  {
   "cell_type": "markdown",
   "metadata": {
    "hidden": true
   },
   "source": [
    "*Create a decorator to ensure a function returns a non-negative value.*\n",
    "\n",
    "Because a lambda function definition is an expression, it can occur inside of another lambda function.\n",
    "\n",
    "I am unreasonably proud of this line.  It's the first Python I've ever written that actually looks like the [Lambda calculus](https://en.wikipedia.org/wiki/Lambda_calculus)."
   ]
  },
  {
   "cell_type": "code",
   "execution_count": null,
   "metadata": {
    "hidden": true
   },
   "outputs": [],
   "source": [
    "%%grade decorator\n",
    "\n",
    "ensure_nonneg = lambda f: lambda *args: max(f(*args), 0)"
   ]
  },
  {
   "cell_type": "markdown",
   "metadata": {
    "heading_collapsed": true
   },
   "source": [
    "## Question 15"
   ]
  },
  {
   "cell_type": "markdown",
   "metadata": {
    "hidden": true
   },
   "source": [
    "*Train a churn model.*"
   ]
  },
  {
   "cell_type": "code",
   "execution_count": null,
   "metadata": {
    "hidden": true
   },
   "outputs": [],
   "source": [
    "from sklearn.pipeline import Pipeline\n",
    "from sklearn.compose import ColumnTransformer\n",
    "from sklearn.preprocessing import OneHotEncoder\n",
    "from sklearn.linear_model import LogisticRegression"
   ]
  },
  {
   "cell_type": "code",
   "execution_count": null,
   "metadata": {
    "hidden": true
   },
   "outputs": [],
   "source": [
    "features_to_use = ['total intl minutes', 'total eve minutes', 'total day minutes',\n",
    "                   'total intl calls', 'total eve calls', 'total day calls',\n",
    "                   'state', 'number vmail messages', 'international plan', 'voice mail plan', \n",
    "                   'customer service calls', 'account length']"
   ]
  },
  {
   "cell_type": "markdown",
   "metadata": {
    "hidden": true
   },
   "source": [
    "Although it looks pretty long, the following straightforward solution is actually only two logical lines.  It takes advantage of the fact that scikit-learn estimators are set up to allow method chaining on the `fit` method."
   ]
  },
  {
   "cell_type": "code",
   "execution_count": null,
   "metadata": {
    "hidden": true
   },
   "outputs": [],
   "source": [
    "%%grade churn\n",
    "\n",
    "df = pd.read_csv('data/Customer_telecom.csv')\n",
    "churn_model = Pipeline([\n",
    "    ('cols', ColumnTransformer([\n",
    "        ('ohe', OneHotEncoder(), ['state', 'international plan', 'voice mail plan'])\n",
    "    ], remainder='passthrough')),\n",
    "    ('clf', LogisticRegression(solver='newton-cg'))\n",
    "]).fit(df[features_to_use], df['churn'])"
   ]
  },
  {
   "cell_type": "markdown",
   "metadata": {
    "hidden": true
   },
   "source": [
    "I could reduce it down to a single logical line by loading the CSV file twice, once for the feature matrix and once for the label vector."
   ]
  },
  {
   "cell_type": "code",
   "execution_count": null,
   "metadata": {
    "hidden": true
   },
   "outputs": [],
   "source": [
    "%%grade churn\n",
    "\n",
    "churn_model = Pipeline([\n",
    "    ('cols', ColumnTransformer([\n",
    "        ('ohe', OneHotEncoder(), ['state', 'international plan', 'voice mail plan'])\n",
    "    ], remainder='passthrough')),\n",
    "    ('clf', LogisticRegression(solver='newton-cg'))\n",
    "]).fit(\n",
    "    pd.read_csv('data/Customer_telecom.csv')[features_to_use],\n",
    "    pd.read_csv('data/Customer_telecom.csv')['churn']\n",
    ")"
   ]
  },
  {
   "cell_type": "markdown",
   "metadata": {
    "hidden": true
   },
   "source": [
    "But this feels wasteful.  Yes it got me to a single logical line, but loading the data twice is inelegant!\n",
    "\n",
    "Instead, I'll create an anonymous function that takes a full DataFrame as an argument, and then immediately call this with the DataFrame loaded from the file.  So much more elegant, and it even saves a few characters."
   ]
  },
  {
   "cell_type": "code",
   "execution_count": null,
   "metadata": {
    "hidden": true
   },
   "outputs": [],
   "source": [
    "%%grade churn\n",
    "\n",
    "churn_model = (lambda df: Pipeline([\n",
    "    ('cols', ColumnTransformer([\n",
    "        ('ohe', OneHotEncoder(), ['state', 'international plan', 'voice mail plan'])\n",
    "    ], remainder='passthrough')),\n",
    "    ('clf', LogisticRegression(solver='newton-cg'))\n",
    "]).fit(df[features_to_use], df['churn']))(\n",
    "    pd.read_csv('data/Customer_telecom.csv')\n",
    ")"
   ]
  },
  {
   "cell_type": "markdown",
   "metadata": {},
   "source": [
    "## Conclusion"
   ]
  },
  {
   "cell_type": "markdown",
   "metadata": {},
   "source": [
    "There we go: 14/15 on getting solutions onto a single line.\n",
    "\n",
    "To reiterate the message from the beginning, **don't write code like this** for anything other than fun.  As the Zen of Python says, \"Readability counts.\"  That said, all of the techniques used here are valid Python idioms, and they have their place.  Use them appropriately, to make your code clearer, and don't try to stuff everything into a single statement."
   ]
  },
  {
   "cell_type": "markdown",
   "metadata": {},
   "source": [
    "*Copyright &copy; 2021 Pragmatic Institute. Redistribution or publication of this material is strictly prohibited.*"
   ]
  }
 ],
 "metadata": {
  "kernelspec": {
   "display_name": "Python 3",
   "language": "python",
   "name": "python3"
  },
  "language_info": {
   "codemirror_mode": {
    "name": "ipython",
    "version": 3
   },
   "file_extension": ".py",
   "mimetype": "text/x-python",
   "name": "python",
   "nbconvert_exporter": "python",
   "pygments_lexer": "ipython3",
   "version": "3.8.5"
  }
 },
 "nbformat": 4,
 "nbformat_minor": 4
}
