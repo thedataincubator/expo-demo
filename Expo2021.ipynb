{
 "cells": [
  {
   "cell_type": "markdown",
   "metadata": {},
   "source": [
    "<!-- no collapse -->\n",
    "# Python Coding Challenge\n",
    "\n",
    "Want to test your Python coding skills? Let's get started!"
   ]
  },
  {
   "cell_type": "markdown",
   "metadata": {},
   "source": [
    "## Question 0"
   ]
  },
  {
   "cell_type": "markdown",
   "metadata": {},
   "source": [
    "We will start slow. For the first couple of questions, the instructions will include enough information to help you write the correct code even if you have no prior Python experience. \n",
    "\n",
    "This is a Jupyter notebook, which allows you to write, edit, and execute code.  To get started, we need to run a little bit of code to get things set up.  The relevant code is in the cell below.  Click in that cell, and then run the code with the `▶ Run` button above."
   ]
  },
  {
   "cell_type": "code",
   "execution_count": null,
   "metadata": {},
   "outputs": [],
   "source": [
    "from grade import grade, get_grade_code, parse_grade_code"
   ]
  },
  {
   "cell_type": "markdown",
   "metadata": {
    "heading_collapsed": true
   },
   "source": [
    "## Question 1"
   ]
  },
  {
   "cell_type": "markdown",
   "metadata": {
    "hidden": true
   },
   "source": [
    "Let's begin with one of the basic data structures in Python - a list.  It can be created using square brackets and data items separated with commas, like you can see in the code cell below. In order to run the code, you need to click in the cell below, and then click the `▶ Run` button above."
   ]
  },
  {
   "cell_type": "code",
   "execution_count": null,
   "metadata": {
    "hidden": true
   },
   "outputs": [],
   "source": [
    "my_list = [1, 2, 3]"
   ]
  },
  {
   "cell_type": "markdown",
   "metadata": {
    "hidden": true
   },
   "source": [
    "We can add elements to a Python list with its `append` method.  If we wanted to add `4` to our list, we'd write the code you see in the cell below. To run the code, don't forget to click in that cell, and then click the `▶ Run` button above."
   ]
  },
  {
   "cell_type": "code",
   "execution_count": null,
   "metadata": {
    "hidden": true
   },
   "outputs": [],
   "source": [
    "my_list.append(4)"
   ]
  },
  {
   "cell_type": "markdown",
   "metadata": {
    "hidden": true
   },
   "source": [
    "In the code cell below, write Python code to add the element `33` to `my_list`. Execute the cell by clicking the `▶ Run` button above or with `Shift`+`Enter`.\n",
    "\n",
    "**IMPORTANT NOTE:** You may notice the `%%grade append` code that is already in the code cell below. Make sure to leave that intact so that the grading of your submission works properly and **write your code on the lines BELOW the `%%grade append`**. This will hold true for the rest of the questions in this coding challenge."
   ]
  },
  {
   "cell_type": "code",
   "execution_count": null,
   "metadata": {
    "hidden": true
   },
   "outputs": [],
   "source": [
    "%%grade append\n"
   ]
  },
  {
   "cell_type": "markdown",
   "metadata": {
    "heading_collapsed": true
   },
   "source": [
    "## Question 2"
   ]
  },
  {
   "cell_type": "markdown",
   "metadata": {
    "hidden": true
   },
   "source": [
    "When you want to write multiple commands, you need to write them in separate lines.  Let's say we wanted to add 4 as well as 5 to our list; we'd write:"
   ]
  },
  {
   "cell_type": "code",
   "execution_count": null,
   "metadata": {
    "hidden": true
   },
   "outputs": [],
   "source": [
    "my_list.append(4)\n",
    "my_list.append(5)"
   ]
  },
  {
   "cell_type": "markdown",
   "metadata": {
    "hidden": true
   },
   "source": [
    "In the cell below, write Python code to add elements 66 and 99 to `mylist`. Same as before, make sure to leave the `%%grade appendmult` intact so that the grading of your submission works properly and **write your code on the lines below that**."
   ]
  },
  {
   "cell_type": "code",
   "execution_count": null,
   "metadata": {
    "hidden": true
   },
   "outputs": [],
   "source": [
    "%%grade appendmult\n"
   ]
  },
  {
   "cell_type": "markdown",
   "metadata": {
    "heading_collapsed": true
   },
   "source": [
    "## Question 3"
   ]
  },
  {
   "cell_type": "markdown",
   "metadata": {
    "hidden": true
   },
   "source": [
    "A Python for loop is used to iterate over objects that allow for iteration, like a Python list. The code bellow shows how we can iterate over a Python list and print one element at a time."
   ]
  },
  {
   "cell_type": "code",
   "execution_count": null,
   "metadata": {
    "hidden": true
   },
   "outputs": [],
   "source": [
    "some_list = [2, 3, 5, 7, 11]\n",
    "\n",
    "for element in some_list:\n",
    "    print(element)"
   ]
  },
  {
   "cell_type": "markdown",
   "metadata": {
    "hidden": true
   },
   "source": [
    "The cell below shows how we can use a for loop to make a new Python list `doubled_list` whose elements are double the ones from `some_list`."
   ]
  },
  {
   "cell_type": "code",
   "execution_count": null,
   "metadata": {
    "hidden": true
   },
   "outputs": [],
   "source": [
    "doubled_list = []\n",
    "for element in some_list:\n",
    "    doubled_list.append(2*element)\n",
    "    \n",
    "print(doubled_list)"
   ]
  },
  {
   "cell_type": "markdown",
   "metadata": {
    "hidden": true
   },
   "source": [
    "In the cell below, write Python code that uses a for loop to create a new Python list called `squared` whose elements are squares of the ones from `some_list`. Same as before, make sure to leave the `%%grade appendfor` intact and write your code on the lines below that so that the grading of your submission works properly."
   ]
  },
  {
   "cell_type": "code",
   "execution_count": null,
   "metadata": {
    "hidden": true
   },
   "outputs": [],
   "source": [
    "%%grade appendfor\n"
   ]
  },
  {
   "cell_type": "markdown",
   "metadata": {
    "heading_collapsed": true
   },
   "source": [
    "## Question 4"
   ]
  },
  {
   "cell_type": "markdown",
   "metadata": {
    "hidden": true
   },
   "source": [
    "We will make things a bit more challenging now. This means that in order to answer the questions from here on, you will need some prior Python experience of your own. If you don't, but you would like to learn more, **... advertise the foundational**. \n",
    "\n",
    "For this problem, assume that you have a Python list of numbers called `numbers_list`. Write Python code that uses `numbers_list` and produces a new Python list called `new_list` which contains those numbers from `numbers_list` that are divisible by 5 or 7.\n",
    "\n",
    "In the cell below, make sure to leave the `%%grade modulo` intact and write your code on the lines below that so that the grading of your submission works properly."
   ]
  },
  {
   "cell_type": "code",
   "execution_count": null,
   "metadata": {
    "hidden": true
   },
   "outputs": [],
   "source": [
    "%%grade modulo\n"
   ]
  },
  {
   "cell_type": "markdown",
   "metadata": {
    "heading_collapsed": true
   },
   "source": [
    "## Question 5"
   ]
  },
  {
   "cell_type": "markdown",
   "metadata": {
    "hidden": true
   },
   "source": [
    "Create a Python dictionary named `cubes` that contains all **odd** numbers between 3 and 19 (both inclusive) as the dictionary keys and make the value of each key the cube of that number. As an example, the resulting  dictionary should like like `{3: 27, 5: 125, ...}`.\n",
    "\n",
    "In the cell below, make sure to leave the `%%grade cubes` intact and write your code on the lines below that so that the grading of your submission works properly."
   ]
  },
  {
   "cell_type": "code",
   "execution_count": null,
   "metadata": {
    "hidden": true
   },
   "outputs": [],
   "source": [
    "%%grade cubes\n"
   ]
  },
  {
   "cell_type": "markdown",
   "metadata": {
    "heading_collapsed": true
   },
   "source": [
    "## Question 6"
   ]
  },
  {
   "cell_type": "markdown",
   "metadata": {
    "hidden": true
   },
   "source": [
    "Write a Python function called `sum_digits` that takes a **number** as the input and returns the sum of the digits of the input number. As an example, calling `sum_digits` with input `28` should return `10`.\n",
    "\n",
    "In the cell below, make sure to leave the `%%grade digits` intact and write your code on the lines below that so that the grading of your submission works properly."
   ]
  },
  {
   "cell_type": "code",
   "execution_count": null,
   "metadata": {
    "hidden": true
   },
   "outputs": [],
   "source": [
    "%%grade digits\n"
   ]
  },
  {
   "cell_type": "markdown",
   "metadata": {
    "heading_collapsed": true
   },
   "source": [
    "## Question 7"
   ]
  },
  {
   "cell_type": "markdown",
   "metadata": {
    "hidden": true
   },
   "source": [
    "You are given a Python dictionary `salaries_dict` which is of the form \n",
    "```python\n",
    "salaries_dict = {\"ID2435\": {\"name\": \"Jim Benz\", \"salary\": 100000}, \n",
    "                 \"ID9335\": {\"name\": \"Kim Pitt\", \"salary\": 120000}, \n",
    "                 ...}\n",
    "```\n",
    "where the keys of the `salaries_dict` dictionary are employee IDs. Write Python code that uses `salaries_dict` and creates a Python variable `max_salary_id` whose value is the employee ID that has the highest salary.\n",
    "\n",
    "In the cell below, make sure to leave the `%%grade salaries` intact and write your code on the lines below that so that the grading of your submission works properly."
   ]
  },
  {
   "cell_type": "code",
   "execution_count": null,
   "metadata": {
    "hidden": true
   },
   "outputs": [],
   "source": [
    "%%grade salaries\n"
   ]
  },
  {
   "cell_type": "markdown",
   "metadata": {
    "heading_collapsed": true
   },
   "source": [
    "## Question 8"
   ]
  },
  {
   "cell_type": "markdown",
   "metadata": {
    "hidden": true
   },
   "source": [
    "Write a Python function `sum_numbers` that takes any number of input arguments and returns the sum of all of those inputs that are integers. If none of the inputs are integers, the function should return 0. As an example `sum_numbers(2, 4, 'hello', 1)` should return 7, `sum_numbers(1, {'a':3}, 1)` should return 2, `sum_numbers('hello', {'a':3})` should return 0.\n",
    "\n",
    "In the cell below, make sure to leave the `%%grade var_args` intact and write your code on the lines below that so that the grading of your submission works properly."
   ]
  },
  {
   "cell_type": "code",
   "execution_count": null,
   "metadata": {
    "hidden": true
   },
   "outputs": [],
   "source": [
    "%%grade var_args\n"
   ]
  },
  {
   "cell_type": "markdown",
   "metadata": {
    "heading_collapsed": true
   },
   "source": [
    "## Question 9"
   ]
  },
  {
   "cell_type": "markdown",
   "metadata": {
    "hidden": true
   },
   "source": [
    "Let the following be the definition of a class that implements a person."
   ]
  },
  {
   "cell_type": "code",
   "execution_count": null,
   "metadata": {
    "hidden": true
   },
   "outputs": [],
   "source": [
    "class Person(object):\n",
    "    def __init__(self, first, last):\n",
    "        self.first = first\n",
    "        self.last = last\n",
    "\n",
    "    def full_name(self):\n",
    "        return self.first + ' ' + self.last\n",
    "    \n",
    "    def change_last(self, new_last):\n",
    "        self.last = new_last"
   ]
  },
  {
   "cell_type": "markdown",
   "metadata": {
    "hidden": true
   },
   "source": [
    "Implement a custom class called `Student` that has all of the same attributes and methods as `Person`, but in addition it should also have:\n",
    "- an attribute \"topics\" which should be a Python list of strings which are the topics that the student is interested in. Write the class such that when we create a new instance of `Student`, we supply the `first`, `last`, `topics`  values and this information will be stored as attributes in the object.\n",
    "- a method `num_topics` which takes no additional input arguments and returns the number of topics the student is interested in.\n",
    "\n",
    "In the cell below, make sure to leave the `%%grade classes` intact and write your code on the lines below that so that the grading of your submission works properly."
   ]
  },
  {
   "cell_type": "code",
   "execution_count": null,
   "metadata": {
    "hidden": true
   },
   "outputs": [],
   "source": [
    "%%grade classes\n"
   ]
  },
  {
   "cell_type": "markdown",
   "metadata": {
    "heading_collapsed": true
   },
   "source": [
    "## Question 10"
   ]
  },
  {
   "cell_type": "markdown",
   "metadata": {
    "hidden": true
   },
   "source": [
    "For this question, you will work with a data set that contains New York City's 311 calls.  These are calls that New Yorkers can make to file a variety of reports ranging from reporting illegal parking to filling a complaint about a noisy neighbor. All of these calls are logged and the data is freely available. You will work with data from 2009 and you can find it in the file `311complaints_2009_001.csv` which is in the folder `data` (so the relative path to the file that you want to use is `data/311complaints_2009_001.csv`).\n",
    "\n",
    "Load the data from this file into a pandas DataFrame (don't forget to import pandas first). How many complaints in this data set are of the most common type of complaint? The type of complaint is logged under column \"Complaint Type\". Make a Python variable called `num_most_common` and assign its value to be the number of most common complaints.\n",
    "\n",
    "In the cell below, make sure to leave the `%%grade most_common` intact and write your code on the lines below that so that the grading of your submission works properly."
   ]
  },
  {
   "cell_type": "code",
   "execution_count": null,
   "metadata": {
    "hidden": true
   },
   "outputs": [],
   "source": [
    "%%grade most_common\n"
   ]
  },
  {
   "cell_type": "markdown",
   "metadata": {
    "heading_collapsed": true
   },
   "source": [
    "## Question 11"
   ]
  },
  {
   "cell_type": "markdown",
   "metadata": {
    "hidden": true
   },
   "source": [
    "Use the same DataFrame that you used in the previous question. Write code to make a Python variable called `agency_fewest` and assign its value to be the the agency code that had the lowest number of March calls out of all agencies. The agency is logged in column \"Agency\" and the date of the 311 complaint is logged in column \"Created Date\". \n",
    "\n",
    "In the cell below, make sure to leave the `%%grade fewest` intact and write your code on the lines below that so that the grading of your submission works properly."
   ]
  },
  {
   "cell_type": "code",
   "execution_count": null,
   "metadata": {
    "hidden": true
   },
   "outputs": [],
   "source": [
    "%%grade fewest\n"
   ]
  },
  {
   "cell_type": "markdown",
   "metadata": {
    "heading_collapsed": true
   },
   "source": [
    "## Question 12"
   ]
  },
  {
   "cell_type": "markdown",
   "metadata": {
    "hidden": true
   },
   "source": [
    "The `data` folder actually contains many more files like the one that you have been working with so far. The files you want to use all have file names of the same format, they all start with `311complaints_2009_` followed by 3 digits and `.csv`.\n",
    "\n",
    "Write code that will read data from all of these files into a single DataFrame (hint: Python library [`glob`](https://docs.python.org/3/library/glob.html) will come handy here). Then make a Python variable called `agency_noise` and assign its value to be the name of the agency that had the most complains related to noise (those are complaints that have \"Noise\" mentioned in column \"Complaint Type\").\n",
    "\n",
    "In the cell below, make sure to leave the `%%grade noise` intact and write your code on the lines below that so that the grading of your submission works properly."
   ]
  },
  {
   "cell_type": "code",
   "execution_count": null,
   "metadata": {
    "hidden": true
   },
   "outputs": [],
   "source": [
    "%%grade noise\n"
   ]
  },
  {
   "cell_type": "markdown",
   "metadata": {
    "heading_collapsed": true
   },
   "source": [
    "## Question 13"
   ]
  },
  {
   "cell_type": "markdown",
   "metadata": {
    "hidden": true
   },
   "source": [
    "For this next problem, you will need write Python code to get data from [this online bookstore](http://books.toscrape.com/catalogue/page-1.html). You want to scrape the prices of all of the books listed and compute the mean price of a book. Be careful, if you scroll down the page, you will see that this is just the first page, so make sure to really get prices of all of the books in this store. This means that you should end up with 1000 book prices in total. Your scraping code many take a minute to run, that's okay. Make a Python variable `avg_book_price` and assign the mean price of a book from this bookstore as its value.\n",
    "\n",
    "In the cell below, make sure to leave the `%%grade books` intact and write your code on the lines below that so that the grading of your submission works properly."
   ]
  },
  {
   "cell_type": "code",
   "execution_count": null,
   "metadata": {
    "hidden": true
   },
   "outputs": [],
   "source": [
    "%%grade books\n"
   ]
  },
  {
   "cell_type": "markdown",
   "metadata": {
    "heading_collapsed": true
   },
   "source": [
    "## Question 14"
   ]
  },
  {
   "cell_type": "markdown",
   "metadata": {
    "hidden": true
   },
   "source": [
    "We have a function definition `some_formula` as you can see below:"
   ]
  },
  {
   "cell_type": "code",
   "execution_count": null,
   "metadata": {
    "hidden": true
   },
   "outputs": [],
   "source": [
    "def some_formula(a, b, c):\n",
    "    result = 3*a + b - 8*c\n",
    "    return result"
   ]
  },
  {
   "cell_type": "markdown",
   "metadata": {
    "hidden": true
   },
   "source": [
    "We would like to ensure that when this function is called, it returns the result according to the above formula, unless the result is negative in which case the function should return 0. In the code cell below write a Python decorator `ensure_noneg` so that we can use it like so\n",
    "\n",
    "```python\n",
    "@ensure_noneg\n",
    "def some_formula(a, b, c):\n",
    "    result = 3*a + b - 8*c\n",
    "    return result\n",
    "```\n",
    "such that for example calling `some_formula(2, 3, 5)` returns 0 and calling `some_formula(5, 3, 2)` of course returns 2.\n",
    "\n",
    "In the cell below, make sure to leave the `%%grade decorator` intact and write your code on the lines below that so that the grading of your submission works properly."
   ]
  },
  {
   "cell_type": "code",
   "execution_count": null,
   "metadata": {
    "hidden": true
   },
   "outputs": [],
   "source": [
    "%%grade decorator\n"
   ]
  },
  {
   "cell_type": "markdown",
   "metadata": {
    "heading_collapsed": true
   },
   "source": [
    "## Question 15"
   ]
  },
  {
   "cell_type": "markdown",
   "metadata": {
    "hidden": true
   },
   "source": [
    "This last question will not only test your Python skills but will also require familiarity with machine learning. For this problem we will work with a data set containing customers of a telecommunications company and we will try to build a scikit-learn model that predicts customer churn. \n",
    "\n",
    "The data set is in the folder `data` in file `Customer_telecom.csv`. Load it into a pandas DataFrame, use only the columns listed in `features_to_use` which you can see in the code cell below and train a model to predict values in column \"churn\". Note that some features are numeric and some are categorical. \n",
    "\n",
    "Make sure to name your scikit-learn model `churn_model` so that the grading will work. Also again leave the `%%grade churn` in the grading code cell intact and write your code on the lines below that so that the grading of your submission works properly."
   ]
  },
  {
   "cell_type": "code",
   "execution_count": null,
   "metadata": {
    "hidden": true
   },
   "outputs": [],
   "source": [
    "features_to_use = ['total intl minutes', 'total eve minutes', 'total day minutes',\n",
    "                   'total intl calls', 'total eve calls', 'total day calls',\n",
    "                  'state', 'number vmail messages', 'international plan', 'voice mail plan', \n",
    "                  'customer service calls', 'account length']"
   ]
  },
  {
   "cell_type": "code",
   "execution_count": null,
   "metadata": {
    "hidden": true
   },
   "outputs": [],
   "source": [
    "%%grade churn\n"
   ]
  },
  {
   "cell_type": "markdown",
   "metadata": {
    "heading_collapsed": true
   },
   "source": [
    "## Submit your final score\n",
    "<a id='last_cell'></a>"
   ]
  },
  {
   "cell_type": "markdown",
   "metadata": {
    "hidden": true
   },
   "source": [
    "<a id='submission'></a>\n",
    "If you would like to submit your score to the Leaderboard, run the cell below to get your anonymized code and your final score."
   ]
  },
  {
   "cell_type": "code",
   "execution_count": null,
   "metadata": {
    "hidden": true
   },
   "outputs": [],
   "source": [
    "print(get_grade_code())"
   ]
  },
  {
   "cell_type": "markdown",
   "metadata": {
    "hidden": true
   },
   "source": [
    "**Now copy this code and your score and submit them by using the form which you can find [HERE NEED THE LINK!](link!!!).**"
   ]
  },
  {
   "cell_type": "markdown",
   "metadata": {
    "hidden": true
   },
   "source": [
    "*Copyright &copy; 2021 Pragmatic Institute. This content is licensed solely for personal use. Redistribution or publication of this material is strictly prohibited.*"
   ]
  }
 ],
 "metadata": {
  "kernelspec": {
   "display_name": "Python 3",
   "language": "python",
   "name": "python3"
  },
  "language_info": {
   "codemirror_mode": {
    "name": "ipython",
    "version": 3
   },
   "file_extension": ".py",
   "mimetype": "text/x-python",
   "name": "python",
   "nbconvert_exporter": "python",
   "pygments_lexer": "ipython3",
   "version": "3.8.5"
  }
 },
 "nbformat": 4,
 "nbformat_minor": 4
}
