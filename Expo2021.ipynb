{
 "cells": [
  {
   "cell_type": "markdown",
   "metadata": {},
   "source": [
    "<!-- no collapse -->\n",
    "<img style=\"width:65px;height:85px;\" align=\"right\" src=\"images/bp.png\">\n",
    "<h1>  bp D&A expo python coding challenge 2021 </h1>"
   ]
  },
  {
   "cell_type": "markdown",
   "metadata": {},
   "source": [
    "Python is a programming language and is used in bp for basic number crunching through to machine learning projects in data lakes.\n",
    "\n",
    "Want to test your Python coding skills? Let's get started!"
   ]
  },
  {
   "cell_type": "markdown",
   "metadata": {},
   "source": [
    "## Question 0"
   ]
  },
  {
   "cell_type": "markdown",
   "metadata": {},
   "source": [
    "We will start slow. For the first couple of questions, the instructions will include enough information to help you write the correct code even if you have no prior Python experience. \n",
    "\n",
    "This is a Jupyter notebook, which allows you to write, edit, and execute code.  To get started, we need to run a little bit of code to get things set up.  The relevant code is in the cell below.  Click in that cell, and then run the code with the `▶ Run` button above."
   ]
  },
  {
   "cell_type": "code",
   "execution_count": null,
   "metadata": {},
   "outputs": [],
   "source": [
    "from grade import grade, get_grade_code, parse_grade_code"
   ]
  },
  {
   "cell_type": "markdown",
   "metadata": {
    "heading_collapsed": true
   },
   "source": [
    "## Question 1"
   ]
  },
  {
   "cell_type": "markdown",
   "metadata": {
    "hidden": true
   },
   "source": [
    "Let's begin with one of the basic data structures in Python - a list.  It can be created using square brackets and data items separated with commas, like you can see in the code cell below. In order to run the code, you need to click in the cell below, and then click the `▶ Run` button above."
   ]
  },
  {
   "cell_type": "code",
   "execution_count": null,
   "metadata": {
    "hidden": true
   },
   "outputs": [],
   "source": [
    "my_list = [1, 2, 3]"
   ]
  },
  {
   "cell_type": "markdown",
   "metadata": {
    "hidden": true
   },
   "source": [
    "We can add elements to a Python list with its `append` method.  If we wanted to add `4` to our list, we'd write the code you see in the cell below. To run the code, don't forget to click in that cell, and then click the `▶ Run` button above."
   ]
  },
  {
   "cell_type": "code",
   "execution_count": null,
   "metadata": {
    "hidden": true
   },
   "outputs": [],
   "source": [
    "my_list.append(4)"
   ]
  },
  {
   "cell_type": "markdown",
   "metadata": {
    "hidden": true
   },
   "source": [
    "In the code cell below, write Python code to add the element `33` to `my_list`. Execute the cell by clicking the `▶ Run` button above or with `Shift`+`Enter`.\n",
    "\n",
    "> **IMPORTANT NOTE:** You may notice the `%%grade append` code that is already in the code cell below. Make sure to leave that intact so that the grading of your submission works properly and **write your code on the lines BELOW the** `%%grade append` **line.** This will hold true for the rest of the questions in this coding challenge."
   ]
  },
  {
   "cell_type": "code",
   "execution_count": null,
   "metadata": {
    "hidden": true
   },
   "outputs": [],
   "source": [
    "%%grade append\n"
   ]
  },
  {
   "cell_type": "markdown",
   "metadata": {
    "heading_collapsed": true
   },
   "source": [
    "## Question 2"
   ]
  },
  {
   "cell_type": "markdown",
   "metadata": {
    "hidden": true
   },
   "source": [
    "When you want to write multiple commands, you need to write them in separate lines.  Let's say we wanted to add 4 as well as 5 to our list; we'd write:"
   ]
  },
  {
   "cell_type": "code",
   "execution_count": null,
   "metadata": {
    "hidden": true
   },
   "outputs": [],
   "source": [
    "my_list.append(4)\n",
    "my_list.append(5)"
   ]
  },
  {
   "cell_type": "markdown",
   "metadata": {
    "hidden": true
   },
   "source": [
    "In the cell below, write Python code to add elements 66 and 99 to `mylist`.  As before, make sure to leave the `%%grade appendmult` line intact so that the grading of your submission works properly. **Write your code on the lines below that**."
   ]
  },
  {
   "cell_type": "code",
   "execution_count": null,
   "metadata": {
    "hidden": true
   },
   "outputs": [],
   "source": [
    "%%grade appendmult\n"
   ]
  },
  {
   "cell_type": "markdown",
   "metadata": {
    "heading_collapsed": true
   },
   "source": [
    "## Question 3"
   ]
  },
  {
   "cell_type": "markdown",
   "metadata": {
    "hidden": true
   },
   "source": [
    "In Python, a *for* loop is used to iterate over objects that allow for iteration, like a Python list. The code below shows how we can iterate over a list and print one element at a time."
   ]
  },
  {
   "cell_type": "code",
   "execution_count": null,
   "metadata": {
    "hidden": true
   },
   "outputs": [],
   "source": [
    "some_list = [2, 3, 5, 7, 11]\n",
    "\n",
    "for element in some_list:\n",
    "    print(element)"
   ]
  },
  {
   "cell_type": "markdown",
   "metadata": {
    "hidden": true
   },
   "source": [
    "We can also assemble new lists using a *for* loop.  The cell below shows how we can use a for loop to make a new list, `doubled_list`, whose elements are double those in `some_list`."
   ]
  },
  {
   "cell_type": "code",
   "execution_count": null,
   "metadata": {
    "hidden": true
   },
   "outputs": [],
   "source": [
    "doubled_list = []\n",
    "for element in some_list:\n",
    "    doubled_list.append(2*element)\n",
    "    \n",
    "print(doubled_list)"
   ]
  },
  {
   "cell_type": "markdown",
   "metadata": {
    "hidden": true
   },
   "source": [
    "In the cell below, write Python code that uses a *for* loop to create a new list called `squared`, whose elements are squares of the elements of `some_list`. Once again, make sure to leave the `%%grade appendfor` line intact, and write your code on the lines below that."
   ]
  },
  {
   "cell_type": "code",
   "execution_count": null,
   "metadata": {
    "hidden": true
   },
   "outputs": [],
   "source": [
    "%%grade appendfor\n"
   ]
  },
  {
   "cell_type": "markdown",
   "metadata": {
    "heading_collapsed": true
   },
   "source": [
    "## Question 4"
   ]
  },
  {
   "cell_type": "markdown",
   "metadata": {
    "hidden": true
   },
   "source": [
    "If you’re completely new to Python – well done for getting this far! Things will start getting progressively harder from this point onwards. If you want to further develop your Python skills for the future visit our [beginner’s python programming learning path on bp’s digital & agility portal](https://bp365.sharepoint.com/sites/digitalagility/sitepages/CourseDetails.aspx?cid=8d898662-1563-4f2b-a805-d4718a3c729b&Title=Programming%20in%20Python%203).\n",
    "\n",
    "For this problem, assume that you have a Python list of numbers called `numbers_list`. Write Python code that uses `numbers_list` and produces a new list called `new_list` which contains those numbers from `numbers_list` that are divisible by 5 or 7.\n",
    "\n",
    "In the cell below, make sure to leave the `%%grade modulo` line intact, and write your code on the lines below that."
   ]
  },
  {
   "cell_type": "code",
   "execution_count": null,
   "metadata": {
    "hidden": true
   },
   "outputs": [],
   "source": [
    "%%grade modulo\n"
   ]
  },
  {
   "cell_type": "markdown",
   "metadata": {
    "heading_collapsed": true
   },
   "source": [
    "## Question 5"
   ]
  },
  {
   "cell_type": "markdown",
   "metadata": {
    "hidden": true
   },
   "source": [
    "Create a Python dictionary named `cubes` that has as keys all of the **odd** numbers from 3 to 19, inclusive.  The value associated with each key should be the cube of that key.  That is, we should have\n",
    "```python\n",
    "cubes[3] == 27\n",
    "cubes[5] == 125\n",
    "```\n",
    "and so on.\n",
    "\n",
    "In the cell below, make sure to leave the `%%grade cubes` line intact, and write your code on the lines below that."
   ]
  },
  {
   "cell_type": "code",
   "execution_count": null,
   "metadata": {
    "hidden": true
   },
   "outputs": [],
   "source": [
    "%%grade cubes\n"
   ]
  },
  {
   "cell_type": "markdown",
   "metadata": {
    "heading_collapsed": true
   },
   "source": [
    "## Question 6"
   ]
  },
  {
   "cell_type": "markdown",
   "metadata": {
    "hidden": true
   },
   "source": [
    "Write a Python function called `sum_digits` that takes a **number** as the input and returns the sum of the digits of the input number. As an example, calling `sum_digits` with input `28` should return `10`.\n",
    "\n",
    "In the cell below, make sure to leave the `%%grade digits` line intact, and write your code on the lines below that."
   ]
  },
  {
   "cell_type": "code",
   "execution_count": null,
   "metadata": {
    "hidden": true
   },
   "outputs": [],
   "source": [
    "%%grade digits\n"
   ]
  },
  {
   "cell_type": "markdown",
   "metadata": {
    "heading_collapsed": true
   },
   "source": [
    "## Question 7"
   ]
  },
  {
   "cell_type": "markdown",
   "metadata": {
    "hidden": true
   },
   "source": [
    "You are given a Python dictionary `salaries_dict` which is of the form \n",
    "```python\n",
    "salaries_dict = {\"ID2435\": {\"name\": \"Jim Benz\", \"salary\": 100000}, \n",
    "                 \"ID9335\": {\"name\": \"Kim Pitt\", \"salary\": 120000}, \n",
    "                 ...}\n",
    "```\n",
    "where the keys of the `salaries_dict` dictionary are employee IDs. Write Python code that uses `salaries_dict` and creates a variable `max_salary_id` whose value is the employee ID that has the highest salary.\n",
    "\n",
    "In the cell below, make sure to leave the `%%grade salaries` intact, and write your code on the lines below that."
   ]
  },
  {
   "cell_type": "code",
   "execution_count": null,
   "metadata": {
    "hidden": true
   },
   "outputs": [],
   "source": [
    "%%grade salaries\n"
   ]
  },
  {
   "cell_type": "markdown",
   "metadata": {
    "heading_collapsed": true
   },
   "source": [
    "## Question 8"
   ]
  },
  {
   "cell_type": "markdown",
   "metadata": {
    "hidden": true
   },
   "source": [
    "Write a Python function `sum_numbers` that takes any number of input arguments and returns the sum of all of those inputs that are integers. If none of the inputs are integers, the function should return 0.  As examples, each of these should be true:\n",
    "```python\n",
    "sum_numbers(2, 4, 'hello', 1) == 7\n",
    "sum_numbers(1, {'a':3}, 1) == 2\n",
    "sum_numbers('hello', {'a':3}) == 0\n",
    "```\n",
    "\n",
    "In the cell below, make sure to leave the `%%grade var_args` line intact, and write your code on the lines below that."
   ]
  },
  {
   "cell_type": "code",
   "execution_count": null,
   "metadata": {
    "hidden": true
   },
   "outputs": [],
   "source": [
    "%%grade var_args\n"
   ]
  },
  {
   "cell_type": "markdown",
   "metadata": {
    "heading_collapsed": true
   },
   "source": [
    "## Question 9"
   ]
  },
  {
   "cell_type": "markdown",
   "metadata": {
    "hidden": true
   },
   "source": [
    "Let the following be the definition of a class that implements a person."
   ]
  },
  {
   "cell_type": "code",
   "execution_count": null,
   "metadata": {
    "hidden": true
   },
   "outputs": [],
   "source": [
    "class Person(object):\n",
    "    def __init__(self, first, last):\n",
    "        self.first = first\n",
    "        self.last = last\n",
    "\n",
    "    def full_name(self):\n",
    "        return self.first + ' ' + self.last\n",
    "    \n",
    "    def change_last(self, new_last):\n",
    "        self.last = new_last"
   ]
  },
  {
   "cell_type": "markdown",
   "metadata": {
    "hidden": true
   },
   "source": [
    "Implement a custom class called `Student` that has all of the same attributes and methods as `Person`, as well as:\n",
    "- an attribute `topics` which should be a Python list of strings which are the topics that the student is interested in. Write the class such that when we create a new instance of `Student`, we supply the `first`, `last`, `topics`  values and this information will be stored as attributes in the object.\n",
    "- a method `num_topics` which takes no additional input arguments and returns the number of topics the student is interested in.\n",
    "\n",
    "In the cell below, make sure to leave the `%%grade classes` line intact, and write your code on the lines below that."
   ]
  },
  {
   "cell_type": "code",
   "execution_count": null,
   "metadata": {
    "hidden": true
   },
   "outputs": [],
   "source": [
    "%%grade classes\n"
   ]
  },
  {
   "cell_type": "markdown",
   "metadata": {
    "heading_collapsed": true
   },
   "source": [
    "## Question 10"
   ]
  },
  {
   "cell_type": "markdown",
   "metadata": {
    "hidden": true
   },
   "source": [
    "For this question, you will work with a data set that contains New York City's 311 calls.  These are calls that New Yorkers can make to file a variety of reports ranging from reporting illegal parking to filling a complaint about a noisy neighbor. All of these calls are logged and the data is freely available. You will work with data from 2009, and you can find it in the file `311complaints_2009_001.csv` in the folder `data`. (Thus, the relative path to that file from this notebook is `data/311complaints_2009_001.csv`.)\n",
    "\n",
    "Load the data from this file into a pandas DataFrame. (You will need to import pandas first.) Each entry is categorized by the *Complaint Type* column.  Work out the complaint type that is most common in this file, and count how many times it occurs.  Assign that number to the variable `num_most_common`.\n",
    "\n",
    "In the cell below, make sure to leave the `%%grade most_common` line intact, and write your code on the lines below that.\n",
    "\n",
    "> **Note:** You may find it useful to make additional cells in the notebook as you explore this data.  Use the `✚` button in the toolbar to do so.  Just make sure that the `num_most_common` variable is defined in the cell with the `%%grade most_common` line."
   ]
  },
  {
   "cell_type": "code",
   "execution_count": null,
   "metadata": {
    "hidden": true
   },
   "outputs": [],
   "source": [
    "%%grade most_common\n"
   ]
  },
  {
   "cell_type": "markdown",
   "metadata": {
    "heading_collapsed": true
   },
   "source": [
    "## Question 11"
   ]
  },
  {
   "cell_type": "markdown",
   "metadata": {
    "hidden": true
   },
   "source": [
    "Consider the complaints from the DataFrame from the previous question.  Restrict your attention to those with a *Created Date* in the month of March.  Each complaint is assigned to a particular *Agency*.  Which agency had the fewest complaints assigned to it in March?  Assign the agency code to a variable called `agency_fewest`.\n",
    "\n",
    "In the cell below, make sure to leave the `%%grade fewest` line intact, and write your code on the lines below that."
   ]
  },
  {
   "cell_type": "code",
   "execution_count": null,
   "metadata": {
    "hidden": true
   },
   "outputs": [],
   "source": [
    "%%grade fewest\n"
   ]
  },
  {
   "cell_type": "markdown",
   "metadata": {
    "heading_collapsed": true
   },
   "source": [
    "## Question 12"
   ]
  },
  {
   "cell_type": "markdown",
   "metadata": {
    "hidden": true
   },
   "source": [
    "The full 311 data for the year 2009 is actually split up amongst a number of files in the `data` folder.  The files have names of the form `311complaints_2009_###.csv`, where `###` is a three-digit number.  You will need to load all of these files into a single DataFrame.  (You may find Python's [glob](https://docs.python.org/3/library/glob.html) library helpful here.)\n",
    "\n",
    "Find all complaints that mention \"Noise\" as the *Complaint Type*.  Then find the *Agency* that was assigned the most noise complaints.  Assign that agency code to a variable named `agency_noise`.\n",
    "\n",
    "In the cell below, make sure to leave the `%%grade noise` line intact, and write your code on the lines below that."
   ]
  },
  {
   "cell_type": "code",
   "execution_count": null,
   "metadata": {
    "hidden": true
   },
   "outputs": [],
   "source": [
    "%%grade noise\n"
   ]
  },
  {
   "cell_type": "markdown",
   "metadata": {
    "heading_collapsed": true
   },
   "source": [
    "## Question 13"
   ]
  },
  {
   "cell_type": "code",
   "execution_count": null,
   "metadata": {
    "hidden": true
   },
   "outputs": [],
   "source": [
    "import requests\n",
    "import bs4"
   ]
  },
  {
   "cell_type": "markdown",
   "metadata": {
    "hidden": true
   },
   "source": [
    "This [(fake) online bookstore](http://books.toscrape.com/catalogue/page-1.html) lists prices for 1000 books.  What is the average book price at this store?\n",
    "\n",
    "To calculate this, you will need to scrape the prices from this website.  Note this the page linked above is just the first of many; you will need to scrape multiple pages to get prices for all 1000 of the books.  This scraping process may run for a minute.  Both [Requests](https://docs.python-requests.org/en/master/) and [Beautiful Soup](https://www.crummy.com/software/BeautifulSoup/bs4/doc/) are available for your use.\n",
    "\n",
    "Once you have calculated the average book price, store it to a variable named `avg_book_price`.\n",
    "\n",
    "In the cell below, make sure to leave the `%%grade books` line intact, and write your code on the lines below that."
   ]
  },
  {
   "cell_type": "code",
   "execution_count": null,
   "metadata": {
    "hidden": true
   },
   "outputs": [],
   "source": [
    "%%grade books\n"
   ]
  },
  {
   "cell_type": "markdown",
   "metadata": {
    "heading_collapsed": true
   },
   "source": [
    "## Question 14"
   ]
  },
  {
   "cell_type": "markdown",
   "metadata": {
    "hidden": true
   },
   "source": [
    "We have a function defined as follows:"
   ]
  },
  {
   "cell_type": "code",
   "execution_count": null,
   "metadata": {
    "hidden": true
   },
   "outputs": [],
   "source": [
    "def some_formula(a, b, c):\n",
    "    result = 3*a + b - 8*c\n",
    "    return result"
   ]
  },
  {
   "cell_type": "markdown",
   "metadata": {
    "hidden": true
   },
   "source": [
    "We would like to create a [decorator](https://docs.python.org/3/glossary.html#term-decorator) which can be applied to this function to ensure that the output is non-negative.  That is, the decorated function should return the same result as the function above, or zero if the above function returns a negative value.  Call this decorator `ensure_nonneg`.  It should be able to be used like so:\n",
    "```python\n",
    "@ensure_nonneg\n",
    "def some_formula(a, b, c):\n",
    "    result = 3*a + b - 8*c\n",
    "    return result\n",
    "\n",
    "some_formula(2, 3, 5) == 0\n",
    "some_formula(5, 3, 2) == 2\n",
    "```\n",
    "\n",
    "In the cell below, make sure to leave the `%%grade decorator` line intact, and write your code on the lines below that."
   ]
  },
  {
   "cell_type": "code",
   "execution_count": null,
   "metadata": {
    "hidden": true
   },
   "outputs": [],
   "source": [
    "%%grade decorator\n"
   ]
  },
  {
   "cell_type": "markdown",
   "metadata": {
    "heading_collapsed": true
   },
   "source": [
    "## Question 15"
   ]
  },
  {
   "cell_type": "markdown",
   "metadata": {
    "hidden": true
   },
   "source": [
    "This last question will require some familiarity with machine learning. We have a data set with information about customers of a telecommunication company, and we are trying to predict which customers will churn, or end their subscription.\n",
    "\n",
    "The data are in the `data/Customer_telecom.csv` file.  Load this in as a pandas DataFrame.  Build a model that uses only the columns in the `features_to_use` list, below, to predict the value in the *churn* column.  Note that some features are numeric and some are categorical.  We recommend that you use [scikit-learn](https://scikit-learn.org/stable/).\n",
    "\n",
    "Name your trained model `churn_model`.  It should have a `.predict` method that takes a DataFrame containing the 12 columns given in `features_to_use`, and returns an array of Booleans indicating whether the user is predicted to churn.  (Scikit-learn models will provide this automatically.)  This model will be evaluated on its accuracy on a held-out test set.\n",
    "\n",
    "Leave the `%%grade churn` line in the grading code cell intact, and write your code on the lines below that."
   ]
  },
  {
   "cell_type": "code",
   "execution_count": null,
   "metadata": {
    "hidden": true
   },
   "outputs": [],
   "source": [
    "features_to_use = ['total intl minutes', 'total eve minutes', 'total day minutes',\n",
    "                   'total intl calls', 'total eve calls', 'total day calls',\n",
    "                   'state', 'number vmail messages', 'international plan', 'voice mail plan', \n",
    "                   'customer service calls', 'account length']"
   ]
  },
  {
   "cell_type": "code",
   "execution_count": null,
   "metadata": {
    "hidden": true
   },
   "outputs": [],
   "source": [
    "%%grade churn\n"
   ]
  },
  {
   "cell_type": "markdown",
   "metadata": {},
   "source": [
    "## Submit your final score\n",
    "<a id='last_cell'></a>"
   ]
  },
  {
   "cell_type": "markdown",
   "metadata": {},
   "source": [
    "<a id='submission'></a>\n",
    "If you would like to submit your score to the Leaderboard, run the cell below to get your anonymized code and your final score. **Then don't forget to follow the link to actually submit!**"
   ]
  },
  {
   "cell_type": "code",
   "execution_count": null,
   "metadata": {},
   "outputs": [],
   "source": [
    "print(get_grade_code())"
   ]
  },
  {
   "cell_type": "markdown",
   "metadata": {},
   "source": [
    "*Copyright &copy; 2021 Pragmatic Institute. Redistribution or publication of this material is strictly prohibited.*"
   ]
  }
 ],
 "metadata": {
  "kernelspec": {
   "display_name": "Python 3",
   "language": "python",
   "name": "python3"
  },
  "language_info": {
   "codemirror_mode": {
    "name": "ipython",
    "version": 3
   },
   "file_extension": ".py",
   "mimetype": "text/x-python",
   "name": "python",
   "nbconvert_exporter": "python",
   "pygments_lexer": "ipython3",
   "version": "3.8.5"
  }
 },
 "nbformat": 4,
 "nbformat_minor": 4
}
